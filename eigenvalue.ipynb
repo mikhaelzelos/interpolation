{
  "nbformat": 4,
  "nbformat_minor": 0,
  "metadata": {
    "colab": {
      "provenance": []
    },
    "kernelspec": {
      "name": "python3",
      "display_name": "Python 3"
    },
    "language_info": {
      "name": "python"
    }
  },
  "cells": [
    {
      "cell_type": "code",
      "execution_count": null,
      "metadata": {
        "id": "9oUnjKLsN9YN"
      },
      "outputs": [],
      "source": [
        "import numpy as np\n",
        "def normalize(x):\n",
        "  fac = abs(x).max()\n",
        "  x_n = x / x.max()\n",
        "  return fac, x_n\n",
        "x = np.array([1, 1])\n",
        "a = np.array([0, 2],\n",
        "             [2, 3])\n",
        "\n",
        "for i in range(8):\n",
        "  x = np.dot(a, x)\n",
        "  lambda_1, x = normalize(x)\n",
        "\n",
        "print('Eigenvalue :', lambda_1)\n",
        "print('Eigenvector :', x)"
      ]
    },
    {
      "cell_type": "code",
      "source": [
        "from numpy.linalg import inv\n",
        "a_inv = inv(a)\n",
        "\n",
        "for i in range (8):\n",
        "  x = np.dot(a_inv, x)\n",
        "  lambda_1, x = normalize(x)\n",
        "\n",
        "print('Eigenvalue :', lambda_1)\n",
        "print('Eigenvector :', x)"
      ],
      "metadata": {
        "id": "jAclzVCsPFnT"
      },
      "execution_count": null,
      "outputs": []
    },
    {
      "cell_type": "code",
      "source": [
        "import numpy as np\n",
        "from numpy.linalg import eig\n",
        "a = np.array([0, 2],\n",
        "             [2, 3])\n",
        "w,v=eig(a)\n",
        "print('E-value:', w)\n",
        "print('E-vector', v)"
      ],
      "metadata": {
        "id": "mQMq2z3EPWpT"
      },
      "execution_count": null,
      "outputs": []
    },
    {
      "cell_type": "code",
      "source": [
        "import numpy as np\n",
        "from numpy.linalg import eig\n",
        "a = np.array([2, 2, 4],\n",
        "             [1, 3, 5],\n",
        "             [2, 3, 4])\n",
        "w,v=eig(a)\n",
        "print('E-value:', w)\n",
        "print('E-vector', v)"
      ],
      "metadata": {
        "id": "3wVMbgEvPnVj"
      },
      "execution_count": null,
      "outputs": []
    }
  ]
}