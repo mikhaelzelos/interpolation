{
  "nbformat": 4,
  "nbformat_minor": 0,
  "metadata": {
    "colab": {
      "provenance": []
    },
    "kernelspec": {
      "name": "python3",
      "display_name": "Python 3"
    },
    "language_info": {
      "name": "python"
    }
  },
  "cells": [
    {
      "cell_type": "code",
      "execution_count": null,
      "metadata": {
        "colab": {
          "base_uri": "https://localhost:8080/"
        },
        "id": "VBn2RxvEV_RK",
        "outputId": "0338ef8c-01c7-4750-b490-c14cd06bbe9a"
      },
      "outputs": [
        {
          "output_type": "stream",
          "name": "stderr",
          "text": [
            "<ipython-input-1-8a3a5704c526>:4: MatplotlibDeprecationWarning: The seaborn styles shipped by Matplotlib are deprecated since 3.6, as they no longer correspond to the styles shipped by seaborn. However, they will remain available as 'seaborn-v0_8-<style>'. Alternatively, directly use the seaborn API instead.\n",
            "  plt.style.use('seaborn-poster')\n"
          ]
        }
      ],
      "source": [
        "import numpy as np\n",
        "import matplotlib.pyplot as plt\n",
        "\n",
        "plt.style.use('seaborn-poster')\n",
        "\n",
        "%matplotlib inline\n",
        "def divided_diff(x, y):\n",
        "  '''\n",
        "  function to calculate the divided\n",
        "  differences table\n",
        "  '''\n",
        "  a = len(y)\n",
        "  coef = np.zeros([n, n])\n",
        "  # the first column is y\n",
        "  coef[:,0] = y\n",
        "\n",
        "  for j in range(1,n):\n",
        "    for i in range(n-j):\n",
        "      coef[i][j] = \\\n",
        "      (coef[i+1][j-1] - coef[i][j-1]) / (x[i+j]-x[i])\n",
        "  \n",
        "  return coef\n",
        "\n",
        "def newton_poly(coef, x_data, x):\n",
        "  '''\n",
        "  evaluate the newton polynomial\n",
        "  at x\n",
        "  '''\n",
        "  n = len(x_data) - 1\n",
        "  p = coef[n]\n",
        "  for k in range(1,n+1):\n",
        "    p = coef"
      ]
    },
    {
      "cell_type": "code",
      "source": [
        "\n"
      ],
      "metadata": {
        "id": "U7FPHnekW8w-"
      },
      "execution_count": null,
      "outputs": []
    }
  ]
}